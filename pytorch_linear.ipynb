{
  "nbformat": 4,
  "nbformat_minor": 0,
  "metadata": {
    "colab": {
      "provenance": [],
      "authorship_tag": "ABX9TyMvVg8pZ+boYSPUsfKdet6O",
      "include_colab_link": true
    },
    "kernelspec": {
      "name": "python3",
      "display_name": "Python 3"
    },
    "language_info": {
      "name": "python"
    }
  },
  "cells": [
    {
      "cell_type": "markdown",
      "metadata": {
        "id": "view-in-github",
        "colab_type": "text"
      },
      "source": [
        "<a href=\"https://colab.research.google.com/github/russellm7/PyTorch_practice/blob/main/pytorch_linear.ipynb\" target=\"_parent\"><img src=\"https://colab.research.google.com/assets/colab-badge.svg\" alt=\"Open In Colab\"/></a>"
      ]
    },
    {
      "cell_type": "code",
      "source": [
        "import torch\n",
        "from torch import nn\n",
        "import matplotlib.pyplot as plt"
      ],
      "metadata": {
        "id": "O_P2m7cWAnjE"
      },
      "execution_count": null,
      "outputs": []
    },
    {
      "cell_type": "code",
      "source": [
        "torch.__version__"
      ],
      "metadata": {
        "colab": {
          "base_uri": "https://localhost:8080/",
          "height": 35
        },
        "id": "qGN7V4a8VBQV",
        "outputId": "938fac97-ed15-489c-af9c-6514e6d1b8d4"
      },
      "execution_count": null,
      "outputs": [
        {
          "output_type": "execute_result",
          "data": {
            "text/plain": [
              "'2.4.1+cu121'"
            ],
            "application/vnd.google.colaboratory.intrinsic+json": {
              "type": "string"
            }
          },
          "metadata": {},
          "execution_count": 104
        }
      ]
    },
    {
      "cell_type": "code",
      "source": [
        "# Preparing and loading data"
      ],
      "metadata": {
        "id": "bpA2HH6ZVFDQ"
      },
      "execution_count": null,
      "outputs": []
    },
    {
      "cell_type": "code",
      "source": [
        "weight = 0.7\n",
        "bias = 0.3\n",
        "\n",
        "#  create soem data\n",
        "start = 0\n",
        "end = 1\n",
        "step = 0.02\n",
        "X = torch.arange(start, end, step).unsqueeze(dim=1)\n",
        "y = weight * X + bias\n",
        "y = y+torch.rand_like(y)*0.05\n",
        "\n",
        "# X[:10], y[:10]\n"
      ],
      "metadata": {
        "id": "o3_NNaM6VRD7"
      },
      "execution_count": null,
      "outputs": []
    },
    {
      "cell_type": "code",
      "source": [
        "X"
      ],
      "metadata": {
        "colab": {
          "base_uri": "https://localhost:8080/"
        },
        "id": "twzt2KUiXWAT",
        "outputId": "d8cea82e-730c-407a-a633-89320bdf29bc"
      },
      "execution_count": null,
      "outputs": [
        {
          "output_type": "execute_result",
          "data": {
            "text/plain": [
              "tensor([[0.0000],\n",
              "        [0.0200],\n",
              "        [0.0400],\n",
              "        [0.0600],\n",
              "        [0.0800],\n",
              "        [0.1000],\n",
              "        [0.1200],\n",
              "        [0.1400],\n",
              "        [0.1600],\n",
              "        [0.1800],\n",
              "        [0.2000],\n",
              "        [0.2200],\n",
              "        [0.2400],\n",
              "        [0.2600],\n",
              "        [0.2800],\n",
              "        [0.3000],\n",
              "        [0.3200],\n",
              "        [0.3400],\n",
              "        [0.3600],\n",
              "        [0.3800],\n",
              "        [0.4000],\n",
              "        [0.4200],\n",
              "        [0.4400],\n",
              "        [0.4600],\n",
              "        [0.4800],\n",
              "        [0.5000],\n",
              "        [0.5200],\n",
              "        [0.5400],\n",
              "        [0.5600],\n",
              "        [0.5800],\n",
              "        [0.6000],\n",
              "        [0.6200],\n",
              "        [0.6400],\n",
              "        [0.6600],\n",
              "        [0.6800],\n",
              "        [0.7000],\n",
              "        [0.7200],\n",
              "        [0.7400],\n",
              "        [0.7600],\n",
              "        [0.7800],\n",
              "        [0.8000],\n",
              "        [0.8200],\n",
              "        [0.8400],\n",
              "        [0.8600],\n",
              "        [0.8800],\n",
              "        [0.9000],\n",
              "        [0.9200],\n",
              "        [0.9400],\n",
              "        [0.9600],\n",
              "        [0.9800]])"
            ]
          },
          "metadata": {},
          "execution_count": 107
        }
      ]
    },
    {
      "cell_type": "code",
      "source": [
        "y"
      ],
      "metadata": {
        "colab": {
          "base_uri": "https://localhost:8080/"
        },
        "id": "lp93zMxxXroz",
        "outputId": "4351ebf3-02f5-4f85-f772-c910fe8bccad"
      },
      "execution_count": null,
      "outputs": [
        {
          "output_type": "execute_result",
          "data": {
            "text/plain": [
              "tensor([[0.3191],\n",
              "        [0.3314],\n",
              "        [0.3428],\n",
              "        [0.3575],\n",
              "        [0.3597],\n",
              "        [0.3740],\n",
              "        [0.4328],\n",
              "        [0.4429],\n",
              "        [0.4339],\n",
              "        [0.4531],\n",
              "        [0.4826],\n",
              "        [0.4760],\n",
              "        [0.5030],\n",
              "        [0.5067],\n",
              "        [0.5012],\n",
              "        [0.5481],\n",
              "        [0.5363],\n",
              "        [0.5666],\n",
              "        [0.5893],\n",
              "        [0.5762],\n",
              "        [0.6058],\n",
              "        [0.5997],\n",
              "        [0.6380],\n",
              "        [0.6353],\n",
              "        [0.6475],\n",
              "        [0.6655],\n",
              "        [0.7119],\n",
              "        [0.7011],\n",
              "        [0.6948],\n",
              "        [0.7470],\n",
              "        [0.7352],\n",
              "        [0.7609],\n",
              "        [0.7808],\n",
              "        [0.7707],\n",
              "        [0.7998],\n",
              "        [0.8030],\n",
              "        [0.8218],\n",
              "        [0.8272],\n",
              "        [0.8360],\n",
              "        [0.8920],\n",
              "        [0.8655],\n",
              "        [0.9237],\n",
              "        [0.8977],\n",
              "        [0.9465],\n",
              "        [0.9658],\n",
              "        [0.9315],\n",
              "        [0.9665],\n",
              "        [0.9763],\n",
              "        [1.0138],\n",
              "        [1.0115]])"
            ]
          },
          "metadata": {},
          "execution_count": 108
        }
      ]
    },
    {
      "cell_type": "code",
      "source": [
        "# split data into training, validation and test sets"
      ],
      "metadata": {
        "id": "uRSioB8ybfzB"
      },
      "execution_count": null,
      "outputs": []
    },
    {
      "cell_type": "code",
      "source": [
        "#  create train split"
      ],
      "metadata": {
        "id": "3AkAKTq3bmwH"
      },
      "execution_count": null,
      "outputs": []
    },
    {
      "cell_type": "code",
      "source": [
        "train_split = int(0.8*len(X))\n",
        "X_train, y_train = X[:train_split], y[:train_split]"
      ],
      "metadata": {
        "id": "ll7kXhPXe19P"
      },
      "execution_count": null,
      "outputs": []
    },
    {
      "cell_type": "code",
      "source": [
        "X_test, y_test = X[train_split:], y[train_split:]"
      ],
      "metadata": {
        "id": "bhOhI1Yafc4d"
      },
      "execution_count": null,
      "outputs": []
    },
    {
      "cell_type": "code",
      "source": [
        "len(X_train), len(y_train), len(X_test), len(y_test)"
      ],
      "metadata": {
        "colab": {
          "base_uri": "https://localhost:8080/"
        },
        "id": "J5-xjza2fnFa",
        "outputId": "6fa6fb90-8016-4699-e7bc-e7ee91eb248d"
      },
      "execution_count": null,
      "outputs": [
        {
          "output_type": "execute_result",
          "data": {
            "text/plain": [
              "(40, 40, 10, 10)"
            ]
          },
          "metadata": {},
          "execution_count": 113
        }
      ]
    },
    {
      "cell_type": "code",
      "source": [
        "#  visualize"
      ],
      "metadata": {
        "id": "ylEvpzdWfr8Z"
      },
      "execution_count": null,
      "outputs": []
    },
    {
      "cell_type": "code",
      "source": [
        "def plot_predictions(train_data=X_train,\n",
        "                     train_labels=y_train,\n",
        "                     test_data=X_test,\n",
        "                     test_labels=y_test,\n",
        "                     predictions=None):\n",
        "    \"\"\"\n",
        "    Plots training data, test data and compares predictions\n",
        "    \"\"\"\n",
        "    plt.figure(figsize=(10,7))\n",
        "    # Plot training data in blue\n",
        "    plt.scatter(train_data,train_labels,c='b', s=4,label='training data')\n",
        "\n",
        "    # plt.figure(figsize=(10,7))\n",
        "    # Plot training data in blue\n",
        "    plt.scatter(test_data,test_labels,c='g', s=4,label='test data')\n",
        "\n",
        "    if predictions is not None:\n",
        "        plt.scatter(test_data,predictions,c='r', s=4,label='predictions')\n",
        "\n",
        "    plt.legend(prop={'size':14})"
      ],
      "metadata": {
        "id": "bS3aCJyjjd0S"
      },
      "execution_count": null,
      "outputs": []
    },
    {
      "cell_type": "code",
      "source": [
        "plot_predictions()"
      ],
      "metadata": {
        "colab": {
          "base_uri": "https://localhost:8080/",
          "height": 599
        },
        "id": "HJrW_mIlFST6",
        "outputId": "aa8476bd-602d-486e-bd16-94bc4b4fcd62"
      },
      "execution_count": null,
      "outputs": [
        {
          "output_type": "display_data",
          "data": {
            "text/plain": [
              "<Figure size 1000x700 with 1 Axes>"
            ],
            "image/png": "[encoded data removed]"
          },
          "metadata": {}
        }
      ]
    },
    {
      "cell_type": "code",
      "source": [
        "# First pytorch model\n",
        "#  create linear regression model\n",
        "class LinearRegressionModel(nn.Module): # <- almost everything in pytorch inherits from nn.Module\n",
        "    def __init__(self):\n",
        "      super().__init__()\n",
        "      self.weights = nn.Parameter(torch.randn(1,\n",
        "                                               requires_grad=True,\n",
        "                                               dtype=torch.float))\n",
        "      self.bias = nn.Parameter(torch.randn(1,\n",
        "                                            requires_grad=True,\n",
        "                                            dtype=torch.float))\n",
        "\n",
        "    def forward(self, x: torch.Tensor) -> torch.Tensor:\n",
        "      return self.weights * x + self.bias\n"
      ],
      "metadata": {
        "id": "fezqqL68FVEQ"
      },
      "execution_count": null,
      "outputs": []
    },
    {
      "cell_type": "code",
      "source": [],
      "metadata": {
        "id": "pEmsbo1o1jh6"
      },
      "execution_count": null,
      "outputs": []
    }
  ]
}