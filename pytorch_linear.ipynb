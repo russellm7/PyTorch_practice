{
  "nbformat": 4,
  "nbformat_minor": 0,
  "metadata": {
    "colab": {
      "provenance": [],
      "authorship_tag": "ABX9TyNm467Yk11qo1ehj9dmPoaj",
      "include_colab_link": true
    },
    "kernelspec": {
      "name": "python3",
      "display_name": "Python 3"
    },
    "language_info": {
      "name": "python"
    }
  },
  "cells": [
    {
      "cell_type": "markdown",
      "metadata": {
        "id": "view-in-github",
        "colab_type": "text"
      },
      "source": [
        "<a href=\"https://colab.research.google.com/github/russellm7/PyTorch_practice/blob/main/pytorch_linear.ipynb\" target=\"_parent\"><img src=\"https://colab.research.google.com/assets/colab-badge.svg\" alt=\"Open In Colab\"/></a>"
      ]
    },
    {
      "cell_type": "markdown",
      "source": [
        "## 00. Pytorch Fundementals"
      ],
      "metadata": {
        "id": "jLtIdl3raISh"
      }
    },
    {
      "cell_type": "code",
      "source": [
        "import torch\n",
        "import pandas as pd\n",
        "import numpy as np\n",
        "import matplotlib.pyplot as plt\n",
        "print(torch.__version__)"
      ],
      "metadata": {
        "colab": {
          "base_uri": "https://localhost:8080/"
        },
        "id": "45F3D1wVaCZo",
        "outputId": "9f5e07e4-7657-4d35-9346-81cd9780f813"
      },
      "execution_count": null,
      "outputs": [
        {
          "output_type": "stream",
          "name": "stdout",
          "text": [
            "2.4.1+cu121\n"
          ]
        }
      ]
    },
    {
      "cell_type": "markdown",
      "source": [
        "## Introduction to tensor\n",
        "\n",
        "### Creating tensor\n",
        "\n",
        "Pytorch tensor are created using pytorch.tensor()"
      ],
      "metadata": {
        "id": "bEJ872UPe6j6"
      }
    },
    {
      "cell_type": "code",
      "source": [
        "# Scalar\n",
        "scalar = torch.tensor([7, 2])\n",
        "scalar"
      ],
      "metadata": {
        "colab": {
          "base_uri": "https://localhost:8080/"
        },
        "id": "Rz87Xgkpe8_L",
        "outputId": "47cd7f96-7d17-4380-cf74-9ef6b4f27714"
      },
      "execution_count": null,
      "outputs": [
        {
          "output_type": "execute_result",
          "data": {
            "text/plain": [
              "tensor([7, 2])"
            ]
          },
          "metadata": {},
          "execution_count": 21
        }
      ]
    },
    {
      "cell_type": "code",
      "source": [
        "scalar.ndim"
      ],
      "metadata": {
        "colab": {
          "base_uri": "https://localhost:8080/"
        },
        "id": "CGrN34GbfOCJ",
        "outputId": "5aaa7d62-ce10-4c89-af18-eb30b930dec1"
      },
      "execution_count": null,
      "outputs": [
        {
          "output_type": "execute_result",
          "data": {
            "text/plain": [
              "1"
            ]
          },
          "metadata": {},
          "execution_count": 22
        }
      ]
    },
    {
      "cell_type": "code",
      "source": [
        "matrix = torch.tensor([[7, 8],\n",
        "                      [1, 2]])\n",
        "\n",
        "\n",
        "matrix.shape"
      ],
      "metadata": {
        "colab": {
          "base_uri": "https://localhost:8080/"
        },
        "id": "gRbYlynxf2LA",
        "outputId": "abe5273c-ad15-4eff-c25f-4d1b79337106"
      },
      "execution_count": null,
      "outputs": [
        {
          "output_type": "execute_result",
          "data": {
            "text/plain": [
              "torch.Size([2, 2])"
            ]
          },
          "metadata": {},
          "execution_count": 23
        }
      ]
    },
    {
      "cell_type": "code",
      "source": [
        "matrix.ndim"
      ],
      "metadata": {
        "colab": {
          "base_uri": "https://localhost:8080/"
        },
        "id": "SB0Qnj0aVlB6",
        "outputId": "e625fda5-de75-4bf5-931d-5d563068111e"
      },
      "execution_count": null,
      "outputs": [
        {
          "output_type": "execute_result",
          "data": {
            "text/plain": [
              "2"
            ]
          },
          "metadata": {},
          "execution_count": 24
        }
      ]
    },
    {
      "cell_type": "code",
      "source": [
        "tensor = torch.tensor([[[1,2,3],\n",
        "                        [4,5,6],\n",
        "                        [7,8,9]]])"
      ],
      "metadata": {
        "id": "kI02hX1mXkh4"
      },
      "execution_count": null,
      "outputs": []
    },
    {
      "cell_type": "code",
      "source": [
        "tensor.ndim"
      ],
      "metadata": {
        "colab": {
          "base_uri": "https://localhost:8080/"
        },
        "id": "v8airbPkXktQ",
        "outputId": "08e8d04a-45e4-4ed7-a398-b00fa4fbed68"
      },
      "execution_count": null,
      "outputs": [
        {
          "output_type": "execute_result",
          "data": {
            "text/plain": [
              "3"
            ]
          },
          "metadata": {},
          "execution_count": 26
        }
      ]
    },
    {
      "cell_type": "markdown",
      "source": [],
      "metadata": {
        "id": "rm3C7jCfYCvk"
      }
    },
    {
      "cell_type": "code",
      "source": [
        "tensor.shape"
      ],
      "metadata": {
        "colab": {
          "base_uri": "https://localhost:8080/"
        },
        "id": "UtX1qO_VYEi2",
        "outputId": "770052de-0872-40d3-a200-24081b3ecfb8"
      },
      "execution_count": null,
      "outputs": [
        {
          "output_type": "execute_result",
          "data": {
            "text/plain": [
              "torch.Size([1, 3, 3])"
            ]
          },
          "metadata": {},
          "execution_count": 27
        }
      ]
    },
    {
      "cell_type": "code",
      "source": [
        "tensor[0,0,0]"
      ],
      "metadata": {
        "colab": {
          "base_uri": "https://localhost:8080/"
        },
        "id": "Ve7eqQePYdcY",
        "outputId": "c7f7f48c-8867-4069-e71c-247b5c214b9c"
      },
      "execution_count": null,
      "outputs": [
        {
          "output_type": "execute_result",
          "data": {
            "text/plain": [
              "tensor(1)"
            ]
          },
          "metadata": {},
          "execution_count": 28
        }
      ]
    },
    {
      "cell_type": "code",
      "source": [
        "tensor = torch.tensor([[[[1,2,3],\n",
        "                         [4,5,6],\n",
        "                         [7,8,9]]]])"
      ],
      "metadata": {
        "id": "drFWZfMHYtdv"
      },
      "execution_count": null,
      "outputs": []
    },
    {
      "cell_type": "code",
      "source": [
        "tensor[0]"
      ],
      "metadata": {
        "colab": {
          "base_uri": "https://localhost:8080/"
        },
        "id": "PvQ1q9DRZI-c",
        "outputId": "a59a19ba-43a2-45e8-af52-4da08fdf6ca5"
      },
      "execution_count": null,
      "outputs": [
        {
          "output_type": "execute_result",
          "data": {
            "text/plain": [
              "tensor([[[1, 2, 3],\n",
              "         [4, 5, 6],\n",
              "         [7, 8, 9]]])"
            ]
          },
          "metadata": {},
          "execution_count": 30
        }
      ]
    },
    {
      "cell_type": "code",
      "source": [
        "tensor[0,0]"
      ],
      "metadata": {
        "colab": {
          "base_uri": "https://localhost:8080/"
        },
        "id": "KPXaxT9zZM20",
        "outputId": "52e4bdba-9d14-4c23-fe6e-9649261df5a1"
      },
      "execution_count": null,
      "outputs": [
        {
          "output_type": "execute_result",
          "data": {
            "text/plain": [
              "tensor([[1, 2, 3],\n",
              "        [4, 5, 6],\n",
              "        [7, 8, 9]])"
            ]
          },
          "metadata": {},
          "execution_count": 31
        }
      ]
    },
    {
      "cell_type": "code",
      "source": [],
      "metadata": {
        "id": "AdWsgaF2SgDB"
      },
      "execution_count": null,
      "outputs": []
    },
    {
      "cell_type": "code",
      "source": [
        "tensor = torch.tensor([[[1, 2, 3],\n",
        "                        [4, 5, 6],\n",
        "                        [7, 8, 9]],\n",
        "\n",
        "                       [[10, 11, 12],\n",
        "                        [13, 14, 15],\n",
        "                        [16, 17, 18]],\n",
        "\n",
        "                       [[19, 20, 21],\n",
        "                        [22, 23, 24],\n",
        "                        [25, 26, 27]]])"
      ],
      "metadata": {
        "id": "pYFaPQeTcTCw"
      },
      "execution_count": null,
      "outputs": []
    },
    {
      "cell_type": "code",
      "source": [
        "tensor[0,0,0]"
      ],
      "metadata": {
        "colab": {
          "base_uri": "https://localhost:8080/"
        },
        "id": "HDph3q4RZRYR",
        "outputId": "bf9e6288-4990-4caf-8a6a-a22017e06848"
      },
      "execution_count": null,
      "outputs": [
        {
          "output_type": "execute_result",
          "data": {
            "text/plain": [
              "tensor(1)"
            ]
          },
          "metadata": {},
          "execution_count": 33
        }
      ]
    },
    {
      "cell_type": "code",
      "source": [
        "tensor4x4 = torch.tensor([[[[1,2],\n",
        "                            [3,4]],\n",
        "                           [[5,6],\n",
        "                            [7,8]]],\n",
        "                          [[[9,10],\n",
        "                            [11,12]],\n",
        "                           [[13,14],\n",
        "                            [15,16]]]])"
      ],
      "metadata": {
        "id": "-_doTI0th-tm"
      },
      "execution_count": null,
      "outputs": []
    },
    {
      "cell_type": "code",
      "source": [
        "tensor[1]"
      ],
      "metadata": {
        "colab": {
          "base_uri": "https://localhost:8080/"
        },
        "id": "w6IJAr5-cZjT",
        "outputId": "de7cd74e-b77f-49a0-954e-fe7ba91412ca"
      },
      "execution_count": null,
      "outputs": [
        {
          "output_type": "execute_result",
          "data": {
            "text/plain": [
              "tensor([[10, 11, 12],\n",
              "        [13, 14, 15],\n",
              "        [16, 17, 18]])"
            ]
          },
          "metadata": {},
          "execution_count": 35
        }
      ]
    },
    {
      "cell_type": "code",
      "source": [
        "tensor4x4.ndim"
      ],
      "metadata": {
        "colab": {
          "base_uri": "https://localhost:8080/"
        },
        "id": "7kM-wdm4mNQl",
        "outputId": "e8377938-b6a5-44c0-90ae-2d5118836c5f"
      },
      "execution_count": null,
      "outputs": [
        {
          "output_type": "execute_result",
          "data": {
            "text/plain": [
              "4"
            ]
          },
          "metadata": {},
          "execution_count": 36
        }
      ]
    },
    {
      "cell_type": "code",
      "source": [],
      "metadata": {
        "id": "aszJM7R9Sj7b"
      },
      "execution_count": null,
      "outputs": []
    },
    {
      "cell_type": "markdown",
      "source": [
        "### Random tensor\n",
        "\n",
        "Why random tensor?\n",
        "\n",
        "Random tensors are important becuase the way many neural networks learn is that they start with tensors full of random numbers and then adjust those numbers to better represent the data.\n",
        "\n",
        "`Start with random numbers -> looks at data -> update random numbers -> looak at data -> update random numbers"
      ],
      "metadata": {
        "id": "w0KGe0MQSmL9"
      }
    },
    {
      "cell_type": "code",
      "source": [
        "# Create a random tensor of size(3,4)\n",
        "\n",
        "random_tensor = torch.rand(1,3,4)\n",
        "random_tensor"
      ],
      "metadata": {
        "colab": {
          "base_uri": "https://localhost:8080/"
        },
        "id": "MAgde2SLSomd",
        "outputId": "979d091a-5e67-49f2-d9dd-7ec9b14593a5"
      },
      "execution_count": null,
      "outputs": [
        {
          "output_type": "execute_result",
          "data": {
            "text/plain": [
              "tensor([[[0.7207, 0.1555, 0.0217, 0.9042],\n",
              "         [0.6502, 0.3046, 0.5352, 0.9160],\n",
              "         [0.6241, 0.5314, 0.5116, 0.4326]]])"
            ]
          },
          "metadata": {},
          "execution_count": 37
        }
      ]
    },
    {
      "cell_type": "code",
      "source": [
        "random_tensor.ndim"
      ],
      "metadata": {
        "colab": {
          "base_uri": "https://localhost:8080/"
        },
        "id": "UJsEMarMTere",
        "outputId": "34f5aafc-5b7b-4448-8eff-d9425a5cc066"
      },
      "execution_count": null,
      "outputs": [
        {
          "output_type": "execute_result",
          "data": {
            "text/plain": [
              "3"
            ]
          },
          "metadata": {},
          "execution_count": 38
        }
      ]
    },
    {
      "cell_type": "code",
      "source": [
        "random_image_size_tensor = torch.rand(224,224,3)\n",
        "random_image_size_tensor"
      ],
      "metadata": {
        "colab": {
          "base_uri": "https://localhost:8080/"
        },
        "id": "KLBXAiZHWEe5",
        "outputId": "5fe0d8aa-42bd-4d75-a9d5-d8a51ddbbb97"
      },
      "execution_count": null,
      "outputs": [
        {
          "output_type": "execute_result",
          "data": {
            "text/plain": [
              "tensor([[[0.8403, 0.9695, 0.1380],\n",
              "         [0.7844, 0.9929, 0.4892],\n",
              "         [0.9352, 0.5183, 0.5662],\n",
              "         ...,\n",
              "         [0.9798, 0.9039, 0.3494],\n",
              "         [0.8842, 0.0153, 0.6123],\n",
              "         [0.5055, 0.1078, 0.1946]],\n",
              "\n",
              "        [[0.6940, 0.6371, 0.1961],\n",
              "         [0.7842, 0.2786, 0.5417],\n",
              "         [0.1107, 0.3960, 0.9321],\n",
              "         ...,\n",
              "         [0.8519, 0.0300, 0.3854],\n",
              "         [0.8238, 0.1057, 0.3411],\n",
              "         [0.3995, 0.3853, 0.1537]],\n",
              "\n",
              "        [[0.0188, 0.7622, 0.2737],\n",
              "         [0.3041, 0.9410, 0.7381],\n",
              "         [0.7597, 0.7744, 0.9613],\n",
              "         ...,\n",
              "         [0.0656, 0.3328, 0.3852],\n",
              "         [0.1078, 0.0235, 0.8423],\n",
              "         [0.8878, 0.2599, 0.7736]],\n",
              "\n",
              "        ...,\n",
              "\n",
              "        [[0.7909, 0.0501, 0.9529],\n",
              "         [0.9083, 0.4812, 0.7441],\n",
              "         [0.9553, 0.3927, 0.6942],\n",
              "         ...,\n",
              "         [0.3269, 0.9519, 0.1843],\n",
              "         [0.7047, 0.0522, 0.2988],\n",
              "         [0.9302, 0.0448, 0.5392]],\n",
              "\n",
              "        [[0.7868, 0.3367, 0.7254],\n",
              "         [0.2488, 0.8506, 0.4168],\n",
              "         [0.6925, 0.1601, 0.3621],\n",
              "         ...,\n",
              "         [0.4171, 0.3176, 0.3354],\n",
              "         [0.7838, 0.7970, 0.4020],\n",
              "         [0.4983, 0.3667, 0.2066]],\n",
              "\n",
              "        [[0.8297, 0.8724, 0.6703],\n",
              "         [0.4323, 0.9243, 0.2867],\n",
              "         [0.6603, 0.9263, 0.6036],\n",
              "         ...,\n",
              "         [0.3395, 0.3214, 0.8292],\n",
              "         [0.6697, 0.7704, 0.4667],\n",
              "         [0.7039, 0.1466, 0.9890]]])"
            ]
          },
          "metadata": {},
          "execution_count": 39
        }
      ]
    },
    {
      "cell_type": "code",
      "source": [
        "random_image_size_tensor.shape"
      ],
      "metadata": {
        "colab": {
          "base_uri": "https://localhost:8080/"
        },
        "id": "Oue5HraaWdKg",
        "outputId": "42465a05-4f10-4625-dc90-eeb130778559"
      },
      "execution_count": null,
      "outputs": [
        {
          "output_type": "execute_result",
          "data": {
            "text/plain": [
              "torch.Size([224, 224, 3])"
            ]
          },
          "metadata": {},
          "execution_count": 40
        }
      ]
    },
    {
      "cell_type": "code",
      "source": [
        "random_image_size_tensor.ndim"
      ],
      "metadata": {
        "colab": {
          "base_uri": "https://localhost:8080/"
        },
        "id": "aCdAYSD2WioK",
        "outputId": "8b3c2ab9-936d-4d87-cab4-4d9a32bc13ba"
      },
      "execution_count": null,
      "outputs": [
        {
          "output_type": "execute_result",
          "data": {
            "text/plain": [
              "3"
            ]
          },
          "metadata": {},
          "execution_count": 41
        }
      ]
    },
    {
      "cell_type": "markdown",
      "source": [
        "### Creating range of tensors and tensors-like"
      ],
      "metadata": {
        "id": "W3jRThYunQnm"
      }
    },
    {
      "cell_type": "code",
      "source": [
        "torch.range(0,10)"
      ],
      "metadata": {
        "colab": {
          "base_uri": "https://localhost:8080/"
        },
        "id": "OkPzeA5vWpBX",
        "outputId": "ef2e812a-2119-4135-f7cc-fb1cb825b167"
      },
      "execution_count": null,
      "outputs": [
        {
          "output_type": "stream",
          "name": "stderr",
          "text": [
            "<ipython-input-42-dfdec9b83f7d>:1: UserWarning: torch.range is deprecated and will be removed in a future release because its behavior is inconsistent with Python's range builtin. Instead, use torch.arange, which produces values in [start, end).\n",
            "  torch.range(0,10)\n"
          ]
        },
        {
          "output_type": "execute_result",
          "data": {
            "text/plain": [
              "tensor([ 0.,  1.,  2.,  3.,  4.,  5.,  6.,  7.,  8.,  9., 10.])"
            ]
          },
          "metadata": {},
          "execution_count": 42
        }
      ]
    },
    {
      "cell_type": "code",
      "source": [
        "torch.arange(0,10)"
      ],
      "metadata": {
        "colab": {
          "base_uri": "https://localhost:8080/"
        },
        "id": "yHS47Zg-nh0E",
        "outputId": "da3957c2-4113-42f9-cdf9-2f32093aee9b"
      },
      "execution_count": null,
      "outputs": [
        {
          "output_type": "execute_result",
          "data": {
            "text/plain": [
              "tensor([0, 1, 2, 3, 4, 5, 6, 7, 8, 9])"
            ]
          },
          "metadata": {},
          "execution_count": 43
        }
      ]
    },
    {
      "cell_type": "code",
      "source": [
        "torch.arange(start=0, end=1000, step=77)"
      ],
      "metadata": {
        "colab": {
          "base_uri": "https://localhost:8080/"
        },
        "id": "UGdRqr4cnzWK",
        "outputId": "02f6e12c-a5b2-428e-896f-9a07bcfdb0d8"
      },
      "execution_count": null,
      "outputs": [
        {
          "output_type": "execute_result",
          "data": {
            "text/plain": [
              "tensor([  0,  77, 154, 231, 308, 385, 462, 539, 616, 693, 770, 847, 924])"
            ]
          },
          "metadata": {},
          "execution_count": 44
        }
      ]
    },
    {
      "cell_type": "code",
      "source": [
        "zeros = torch.zeros(3,4)\n",
        "\n",
        "zeros"
      ],
      "metadata": {
        "colab": {
          "base_uri": "https://localhost:8080/"
        },
        "id": "oZTcJEsHoFAy",
        "outputId": "1506eb1f-0064-449f-8d62-df5ff9e96c38"
      },
      "execution_count": null,
      "outputs": [
        {
          "output_type": "execute_result",
          "data": {
            "text/plain": [
              "tensor([[0., 0., 0., 0.],\n",
              "        [0., 0., 0., 0.],\n",
              "        [0., 0., 0., 0.]])"
            ]
          },
          "metadata": {},
          "execution_count": 45
        }
      ]
    },
    {
      "cell_type": "code",
      "source": [
        "# creating tensor of ones\n",
        "ones = torch.ones(3,4)\n",
        "ones"
      ],
      "metadata": {
        "colab": {
          "base_uri": "https://localhost:8080/"
        },
        "id": "JcAO5jPy43HU",
        "outputId": "b542579d-8721-4377-d3b3-e92ca10cc2c6"
      },
      "execution_count": null,
      "outputs": [
        {
          "output_type": "execute_result",
          "data": {
            "text/plain": [
              "tensor([[1., 1., 1., 1.],\n",
              "        [1., 1., 1., 1.],\n",
              "        [1., 1., 1., 1.]])"
            ]
          },
          "metadata": {},
          "execution_count": 46
        }
      ]
    },
    {
      "cell_type": "markdown",
      "source": [
        "### Creating a range of tensor and tensor-like"
      ],
      "metadata": {
        "id": "xnjia5OOtXMM"
      }
    },
    {
      "cell_type": "code",
      "source": [
        "one_to_ten = torch.arange(1,11)\n",
        "one_to_ten"
      ],
      "metadata": {
        "colab": {
          "base_uri": "https://localhost:8080/"
        },
        "id": "1qwwkUuB5JzL",
        "outputId": "029b9750-cb8f-489d-f89c-7b6b23d95093"
      },
      "execution_count": null,
      "outputs": [
        {
          "output_type": "execute_result",
          "data": {
            "text/plain": [
              "tensor([ 1,  2,  3,  4,  5,  6,  7,  8,  9, 10])"
            ]
          },
          "metadata": {},
          "execution_count": 47
        }
      ]
    },
    {
      "cell_type": "code",
      "source": [
        "tensor_with_step = torch.arange(start=0, end=100, step=10)\n",
        "tensor_with_step"
      ],
      "metadata": {
        "colab": {
          "base_uri": "https://localhost:8080/"
        },
        "id": "HDxa0ebd5xt_",
        "outputId": "d7855952-12bd-4c79-921a-4d91159855e9"
      },
      "execution_count": null,
      "outputs": [
        {
          "output_type": "execute_result",
          "data": {
            "text/plain": [
              "tensor([ 0, 10, 20, 30, 40, 50, 60, 70, 80, 90])"
            ]
          },
          "metadata": {},
          "execution_count": 48
        }
      ]
    },
    {
      "cell_type": "code",
      "source": [
        "# creating tensor-like\n",
        "# Replicating tensor of certain shape\n",
        "tensor_like = torch.zeros_like(input=one_to_ten)\n",
        "tensor_like"
      ],
      "metadata": {
        "colab": {
          "base_uri": "https://localhost:8080/"
        },
        "id": "oopY0F_Q6AbV",
        "outputId": "b0943557-81d7-418d-c8c4-4d031f7b1d8a"
      },
      "execution_count": null,
      "outputs": [
        {
          "output_type": "execute_result",
          "data": {
            "text/plain": [
              "tensor([0, 0, 0, 0, 0, 0, 0, 0, 0, 0])"
            ]
          },
          "metadata": {},
          "execution_count": 49
        }
      ]
    },
    {
      "cell_type": "code",
      "source": [
        "torch_random = torch.rand(3,4)\n",
        "torch_random"
      ],
      "metadata": {
        "colab": {
          "base_uri": "https://localhost:8080/"
        },
        "id": "ul6LzRDR6E5C",
        "outputId": "bcd77fdf-bb69-4eaf-abb0-19b5fcb11b96"
      },
      "execution_count": null,
      "outputs": [
        {
          "output_type": "execute_result",
          "data": {
            "text/plain": [
              "tensor([[0.8232, 0.4881, 0.4451, 0.1467],\n",
              "        [0.5641, 0.8505, 0.5228, 0.4452],\n",
              "        [0.9189, 0.4550, 0.7328, 0.9828]])"
            ]
          },
          "metadata": {},
          "execution_count": 50
        }
      ]
    },
    {
      "cell_type": "code",
      "source": [
        "torch_like_random = torch.ones_like(input=torch_random)\n",
        "torch_like_random"
      ],
      "metadata": {
        "colab": {
          "base_uri": "https://localhost:8080/"
        },
        "id": "JuPCOCZd6i-C",
        "outputId": "28f662a1-d1b9-4dba-814e-ad4b910ac900"
      },
      "execution_count": null,
      "outputs": [
        {
          "output_type": "execute_result",
          "data": {
            "text/plain": [
              "tensor([[1., 1., 1., 1.],\n",
              "        [1., 1., 1., 1.],\n",
              "        [1., 1., 1., 1.]])"
            ]
          },
          "metadata": {},
          "execution_count": 51
        }
      ]
    },
    {
      "cell_type": "code",
      "source": [],
      "metadata": {
        "id": "3nN5sodE6nV5"
      },
      "execution_count": null,
      "outputs": []
    },
    {
      "cell_type": "markdown",
      "source": [
        "### Tensor Datatypes\n",
        "\n",
        "**Note: ** Tensor datatypes is one of the 3 big errors that occurs while working with PyTorch in deep learnig. The three main error types are:\n",
        "1. Tensors not right datatype\n",
        "2. Tensors not right shape\n",
        "3. Tensors not on the right device"
      ],
      "metadata": {
        "id": "IOJiqC1r7VMl"
      }
    },
    {
      "cell_type": "code",
      "source": [
        "float_32_tensor = torch.tensor([3,6,7],\n",
        "                               dtype=torch.float32,\n",
        "                               device=None, # \"cpu\" vs \"cuda\"\n",
        "                               requires_grad=False) # whether to track gradient with this tensor\n",
        "float_32_tensor"
      ],
      "metadata": {
        "colab": {
          "base_uri": "https://localhost:8080/"
        },
        "id": "OdDoLzLy7Zda",
        "outputId": "d7aadb58-0268-4962-c950-af991fcc454a"
      },
      "execution_count": null,
      "outputs": [
        {
          "output_type": "execute_result",
          "data": {
            "text/plain": [
              "tensor([3., 6., 7.])"
            ]
          },
          "metadata": {},
          "execution_count": 52
        }
      ]
    },
    {
      "cell_type": "code",
      "source": [
        "float_32_tensor.dtype"
      ],
      "metadata": {
        "colab": {
          "base_uri": "https://localhost:8080/"
        },
        "id": "tkiId994GO3g",
        "outputId": "be91dc85-1921-4b0c-82a8-09c8f1087d1f"
      },
      "execution_count": null,
      "outputs": [
        {
          "output_type": "execute_result",
          "data": {
            "text/plain": [
              "torch.float32"
            ]
          },
          "metadata": {},
          "execution_count": 53
        }
      ]
    },
    {
      "cell_type": "code",
      "source": [
        "float_16_tensor = float_32_tensor.type(torch.float16)\n",
        "float_16_tensor"
      ],
      "metadata": {
        "colab": {
          "base_uri": "https://localhost:8080/"
        },
        "id": "f0FUVuxvGXxG",
        "outputId": "c171649b-b0a2-43a0-e4dd-d42a03e19994"
      },
      "execution_count": null,
      "outputs": [
        {
          "output_type": "execute_result",
          "data": {
            "text/plain": [
              "tensor([3., 6., 7.], dtype=torch.float16)"
            ]
          },
          "metadata": {},
          "execution_count": 54
        }
      ]
    },
    {
      "cell_type": "code",
      "source": [
        "multiply_16_32_tensor = float_16_tensor * float_32_tensor\n",
        "multiply_16_32_tensor"
      ],
      "metadata": {
        "colab": {
          "base_uri": "https://localhost:8080/"
        },
        "id": "eYwqD2XuI5sk",
        "outputId": "4e8eddff-da19-4a49-ada5-d6997e94e094"
      },
      "execution_count": null,
      "outputs": [
        {
          "output_type": "execute_result",
          "data": {
            "text/plain": [
              "tensor([ 9., 36., 49.])"
            ]
          },
          "metadata": {},
          "execution_count": 55
        }
      ]
    },
    {
      "cell_type": "code",
      "source": [
        "multiply_16_32_tensor.dtype"
      ],
      "metadata": {
        "colab": {
          "base_uri": "https://localhost:8080/"
        },
        "id": "C77eSJ2GJCuI",
        "outputId": "736ac000-5c7c-48ef-e776-1df97e705c94"
      },
      "execution_count": null,
      "outputs": [
        {
          "output_type": "execute_result",
          "data": {
            "text/plain": [
              "torch.float32"
            ]
          },
          "metadata": {},
          "execution_count": 56
        }
      ]
    },
    {
      "cell_type": "code",
      "source": [
        "int_32_tensor = torch.tensor([3,6,9], dtype=torch.int32)\n",
        "int_32_tensor"
      ],
      "metadata": {
        "colab": {
          "base_uri": "https://localhost:8080/"
        },
        "id": "ZMaAkbz-JOoM",
        "outputId": "31e41a19-a33e-43a3-ef88-ecf801d6b48c"
      },
      "execution_count": null,
      "outputs": [
        {
          "output_type": "execute_result",
          "data": {
            "text/plain": [
              "tensor([3, 6, 9], dtype=torch.int32)"
            ]
          },
          "metadata": {},
          "execution_count": 57
        }
      ]
    },
    {
      "cell_type": "code",
      "source": [
        "tensor1 = torch.tensor([1,2,3], dtype=torch.int32)\n",
        "tensor2 = torch.tensor([0.1,0.2,0.3], dtype=torch.float64)\n",
        "result = tensor1 * tensor2\n",
        "result"
      ],
      "metadata": {
        "id": "YVO12szUJmNY",
        "colab": {
          "base_uri": "https://localhost:8080/"
        },
        "outputId": "04359ea0-2a77-4e66-b87d-dc50b29f9b17"
      },
      "execution_count": null,
      "outputs": [
        {
          "output_type": "execute_result",
          "data": {
            "text/plain": [
              "tensor([0.1000, 0.4000, 0.9000], dtype=torch.float64)"
            ]
          },
          "metadata": {},
          "execution_count": 58
        }
      ]
    },
    {
      "cell_type": "markdown",
      "source": [
        "### Manipulating tensor\n",
        "\n",
        "Tensor operation include:\n",
        "* Addition\n",
        "* Subtraction\n",
        "* Multiplication (element wise)\n",
        "* Division\n",
        "* Matrix multiplication"
      ],
      "metadata": {
        "id": "9isE65mWru19"
      }
    },
    {
      "cell_type": "code",
      "source": [
        "# Create a tensor\n",
        "tensor = torch.tensor([1,2,3])\n",
        "tensor + 10"
      ],
      "metadata": {
        "colab": {
          "base_uri": "https://localhost:8080/"
        },
        "id": "PhK2GyUgroIs",
        "outputId": "3a6539ab-1e2f-4eb2-ea38-1ee7d4a27338"
      },
      "execution_count": null,
      "outputs": [
        {
          "output_type": "execute_result",
          "data": {
            "text/plain": [
              "tensor([11, 12, 13])"
            ]
          },
          "metadata": {},
          "execution_count": 59
        }
      ]
    },
    {
      "cell_type": "code",
      "source": [
        "# Multiply by 10\n",
        "tensor * 10"
      ],
      "metadata": {
        "colab": {
          "base_uri": "https://localhost:8080/"
        },
        "id": "FSIRV2-fsP7b",
        "outputId": "99a89c22-7f80-47db-d959-8c8429d88cfd"
      },
      "execution_count": null,
      "outputs": [
        {
          "output_type": "execute_result",
          "data": {
            "text/plain": [
              "tensor([10, 20, 30])"
            ]
          },
          "metadata": {},
          "execution_count": 60
        }
      ]
    },
    {
      "cell_type": "code",
      "source": [
        "# Subtract 10\n",
        "tensor - 10"
      ],
      "metadata": {
        "colab": {
          "base_uri": "https://localhost:8080/"
        },
        "id": "hL6Snox_xRtc",
        "outputId": "8efc29ac-ff20-4a9b-8727-d6d7fee09f48"
      },
      "execution_count": null,
      "outputs": [
        {
          "output_type": "execute_result",
          "data": {
            "text/plain": [
              "tensor([-9, -8, -7])"
            ]
          },
          "metadata": {},
          "execution_count": 61
        }
      ]
    },
    {
      "cell_type": "code",
      "source": [
        "tensor*tensor"
      ],
      "metadata": {
        "colab": {
          "base_uri": "https://localhost:8080/"
        },
        "id": "duxJFwBJxhHt",
        "outputId": "23059b8b-d371-4fcd-db82-a583a7bd7345"
      },
      "execution_count": null,
      "outputs": [
        {
          "output_type": "execute_result",
          "data": {
            "text/plain": [
              "tensor([1, 4, 9])"
            ]
          },
          "metadata": {},
          "execution_count": 62
        }
      ]
    },
    {
      "cell_type": "code",
      "source": [
        "tensor2 = torch.tensor([1,2,3,4])\n",
        "tensor.matmul(tensor)"
      ],
      "metadata": {
        "colab": {
          "base_uri": "https://localhost:8080/"
        },
        "id": "ZW3wJBUr2mFu",
        "outputId": "06e59d77-14a2-4c7b-eeae-34db387a0098"
      },
      "execution_count": null,
      "outputs": [
        {
          "output_type": "execute_result",
          "data": {
            "text/plain": [
              "tensor(14)"
            ]
          },
          "metadata": {},
          "execution_count": 63
        }
      ]
    },
    {
      "cell_type": "code",
      "source": [],
      "metadata": {
        "id": "VSqNTiOV2tGF"
      },
      "execution_count": null,
      "outputs": []
    },
    {
      "cell_type": "markdown",
      "source": [
        "### One of the most common error in deep learning is shape error"
      ],
      "metadata": {
        "id": "8UjMHEro6bC6"
      }
    },
    {
      "cell_type": "code",
      "source": [
        "tensor_A = torch.tensor([[1,2],\n",
        "                         [3,4],\n",
        "                         [5,6]])\n",
        "tensor_B = torch.tensor([[7,10],\n",
        "                         [8,11],\n",
        "                         [9,12]])"
      ],
      "metadata": {
        "id": "6UKwflY_9QR9"
      },
      "execution_count": null,
      "outputs": []
    },
    {
      "cell_type": "code",
      "source": [
        "tensor_A.matmul(tensor_B)"
      ],
      "metadata": {
        "colab": {
          "base_uri": "https://localhost:8080/",
          "height": 141
        },
        "id": "lbN8bCT99S4Z",
        "outputId": "ab8993d5-28f9-452b-ee96-296451c5b36e"
      },
      "execution_count": null,
      "outputs": [
        {
          "output_type": "error",
          "ename": "RuntimeError",
          "evalue": "mat1 and mat2 shapes cannot be multiplied (3x2 and 3x2)",
          "traceback": [
            "\u001b[0;31m---------------------------------------------------------------------------\u001b[0m",
            "\u001b[0;31mRuntimeError\u001b[0m                              Traceback (most recent call last)",
            "\u001b[0;32m<ipython-input-65-2917706053a9>\u001b[0m in \u001b[0;36m<cell line: 1>\u001b[0;34m()\u001b[0m\n\u001b[0;32m----> 1\u001b[0;31m \u001b[0mtensor_A\u001b[0m\u001b[0;34m.\u001b[0m\u001b[0mmatmul\u001b[0m\u001b[0;34m(\u001b[0m\u001b[0mtensor_B\u001b[0m\u001b[0;34m)\u001b[0m\u001b[0;34m\u001b[0m\u001b[0;34m\u001b[0m\u001b[0m\n\u001b[0m",
            "\u001b[0;31mRuntimeError\u001b[0m: mat1 and mat2 shapes cannot be multiplied (3x2 and 3x2)"
          ]
        }
      ]
    },
    {
      "cell_type": "code",
      "source": [
        "tensor_B.T"
      ],
      "metadata": {
        "id": "VMqFmEX99WnQ"
      },
      "execution_count": null,
      "outputs": []
    },
    {
      "cell_type": "code",
      "source": [
        "tensor_A.matmul(tensor_B.T)"
      ],
      "metadata": {
        "id": "5yTkIAJ59b9v"
      },
      "execution_count": null,
      "outputs": []
    },
    {
      "cell_type": "markdown",
      "source": [
        "## Finding the min, max, mean, sum etc. (tensor aggregation)"
      ],
      "metadata": {
        "id": "AWmSa-Iw-pEh"
      }
    },
    {
      "cell_type": "code",
      "source": [
        "tensor = torch.arange(0,100,10)\n",
        "tensor"
      ],
      "metadata": {
        "id": "k8CDBUaK-prt",
        "colab": {
          "base_uri": "https://localhost:8080/"
        },
        "outputId": "d637596d-588f-4817-b1b1-e2aa550096ad"
      },
      "execution_count": null,
      "outputs": [
        {
          "output_type": "execute_result",
          "data": {
            "text/plain": [
              "tensor([ 0, 10, 20, 30, 40, 50, 60, 70, 80, 90])"
            ]
          },
          "metadata": {},
          "execution_count": 67
        }
      ]
    },
    {
      "cell_type": "code",
      "source": [
        "tensor.min()"
      ],
      "metadata": {
        "id": "pE_3clfg_Z3E",
        "colab": {
          "base_uri": "https://localhost:8080/"
        },
        "outputId": "e5a9cca6-6db7-4f60-9b13-8f43eb676a0b"
      },
      "execution_count": null,
      "outputs": [
        {
          "output_type": "execute_result",
          "data": {
            "text/plain": [
              "tensor(0)"
            ]
          },
          "metadata": {},
          "execution_count": 68
        }
      ]
    },
    {
      "cell_type": "code",
      "source": [
        "tensor.max()"
      ],
      "metadata": {
        "id": "B7U_XoQM_crT",
        "colab": {
          "base_uri": "https://localhost:8080/"
        },
        "outputId": "168e30f1-6691-4b74-90b9-75b929f591b5"
      },
      "execution_count": null,
      "outputs": [
        {
          "output_type": "execute_result",
          "data": {
            "text/plain": [
              "tensor(90)"
            ]
          },
          "metadata": {},
          "execution_count": 69
        }
      ]
    },
    {
      "cell_type": "code",
      "source": [
        "tensor = tensor.type(torch.float32)\n",
        "tensor.mean()"
      ],
      "metadata": {
        "id": "fzTG4bJm_8fb",
        "colab": {
          "base_uri": "https://localhost:8080/"
        },
        "outputId": "1f76839e-f334-4469-ef96-3148086d65ea"
      },
      "execution_count": null,
      "outputs": [
        {
          "output_type": "execute_result",
          "data": {
            "text/plain": [
              "tensor(45.)"
            ]
          },
          "metadata": {},
          "execution_count": 70
        }
      ]
    },
    {
      "cell_type": "markdown",
      "source": [
        "### FInding the positional min and max"
      ],
      "metadata": {
        "id": "1SQaueJ4bULW"
      }
    },
    {
      "cell_type": "code",
      "source": [
        "tensor.argmin()"
      ],
      "metadata": {
        "id": "n5f1lZT3ACuT",
        "colab": {
          "base_uri": "https://localhost:8080/"
        },
        "outputId": "e398d49c-1d54-49ff-e1af-66f17b2fb8f5"
      },
      "execution_count": null,
      "outputs": [
        {
          "output_type": "execute_result",
          "data": {
            "text/plain": [
              "tensor(0)"
            ]
          },
          "metadata": {},
          "execution_count": 71
        }
      ]
    },
    {
      "cell_type": "code",
      "source": [
        "tensor.argmax()"
      ],
      "metadata": {
        "id": "rnx-IV8abat5",
        "colab": {
          "base_uri": "https://localhost:8080/"
        },
        "outputId": "aa0d4354-f4b2-4472-dc16-af5315565312"
      },
      "execution_count": null,
      "outputs": [
        {
          "output_type": "execute_result",
          "data": {
            "text/plain": [
              "tensor(9)"
            ]
          },
          "metadata": {},
          "execution_count": 72
        }
      ]
    },
    {
      "cell_type": "code",
      "source": [
        "tensor[tensor.argmax()]"
      ],
      "metadata": {
        "id": "ndS2Y9CLbcvC",
        "colab": {
          "base_uri": "https://localhost:8080/"
        },
        "outputId": "8cfbe77b-8e48-4a8e-bb0e-2c40c8588a76"
      },
      "execution_count": null,
      "outputs": [
        {
          "output_type": "execute_result",
          "data": {
            "text/plain": [
              "tensor(90.)"
            ]
          },
          "metadata": {},
          "execution_count": 73
        }
      ]
    },
    {
      "cell_type": "markdown",
      "source": [
        "### Reshaping, stacking, squeezing, and unsqueezing tensors\n",
        "\n",
        "* Reshape - reshapes an input tensor to a defined shape\n",
        "* View- returns a view of an input tensor of certain shape but keep the same memory as the orginal\n",
        "* STacking\n",
        "* Squeeze\n",
        "* Unsqueeze\n",
        "* Permute"
      ],
      "metadata": {
        "id": "Bx5OBo_6e1FG"
      }
    },
    {
      "cell_type": "code",
      "source": [
        "# Create a tensor\n",
        "import torch\n",
        "x = torch.arange(1., 10.)\n",
        "x, x.size()"
      ],
      "metadata": {
        "id": "CK-M3e1Ibi9a",
        "colab": {
          "base_uri": "https://localhost:8080/"
        },
        "outputId": "52303a92-8d0e-4f71-9aa8-614667be0c5f"
      },
      "execution_count": null,
      "outputs": [
        {
          "output_type": "execute_result",
          "data": {
            "text/plain": [
              "(tensor([1., 2., 3., 4., 5., 6., 7., 8., 9.]), torch.Size([9]))"
            ]
          },
          "metadata": {},
          "execution_count": 74
        }
      ]
    },
    {
      "cell_type": "code",
      "source": [
        "x_reshaped = x.reshape(1,9)\n",
        "x_reshaped, x_reshaped.shape"
      ],
      "metadata": {
        "id": "uKi2i811ez41",
        "colab": {
          "base_uri": "https://localhost:8080/"
        },
        "outputId": "baf0c96d-1f9a-4dc1-cdd9-33e362e22283"
      },
      "execution_count": null,
      "outputs": [
        {
          "output_type": "execute_result",
          "data": {
            "text/plain": [
              "(tensor([[1., 2., 3., 4., 5., 6., 7., 8., 9.]]), torch.Size([1, 9]))"
            ]
          },
          "metadata": {},
          "execution_count": 75
        }
      ]
    },
    {
      "cell_type": "code",
      "source": [
        "x_reshaped = x.reshape(9,1)\n",
        "x_reshaped, x_reshaped.shape"
      ],
      "metadata": {
        "id": "-4Q8b4ynj7uf",
        "colab": {
          "base_uri": "https://localhost:8080/"
        },
        "outputId": "7adf2145-7802-4b99-bbdd-53061f94d6d3"
      },
      "execution_count": null,
      "outputs": [
        {
          "output_type": "execute_result",
          "data": {
            "text/plain": [
              "(tensor([[1.],\n",
              "         [2.],\n",
              "         [3.],\n",
              "         [4.],\n",
              "         [5.],\n",
              "         [6.],\n",
              "         [7.],\n",
              "         [8.],\n",
              "         [9.]]),\n",
              " torch.Size([9, 1]))"
            ]
          },
          "metadata": {},
          "execution_count": 76
        }
      ]
    },
    {
      "cell_type": "code",
      "source": [
        "x_reshaped = x.reshape(3,3)\n",
        "x_reshaped, x_reshaped.shape"
      ],
      "metadata": {
        "id": "CUsE6HfqkJ0-",
        "colab": {
          "base_uri": "https://localhost:8080/"
        },
        "outputId": "e25e9102-ccbd-4dbf-d36e-e572a49e83de"
      },
      "execution_count": null,
      "outputs": [
        {
          "output_type": "execute_result",
          "data": {
            "text/plain": [
              "(tensor([[1., 2., 3.],\n",
              "         [4., 5., 6.],\n",
              "         [7., 8., 9.]]),\n",
              " torch.Size([3, 3]))"
            ]
          },
          "metadata": {},
          "execution_count": 77
        }
      ]
    },
    {
      "cell_type": "code",
      "source": [
        "# Change the view\n",
        "z = x.view(1,9)\n",
        "z, z.shape"
      ],
      "metadata": {
        "id": "8bU-JO65l85-",
        "colab": {
          "base_uri": "https://localhost:8080/"
        },
        "outputId": "b6f34d34-42cd-49b8-cd08-66eeb21ad937"
      },
      "execution_count": null,
      "outputs": [
        {
          "output_type": "execute_result",
          "data": {
            "text/plain": [
              "(tensor([[1., 2., 3., 4., 5., 6., 7., 8., 9.]]), torch.Size([1, 9]))"
            ]
          },
          "metadata": {},
          "execution_count": 78
        }
      ]
    },
    {
      "cell_type": "code",
      "source": [
        "z[:,0] = 5\n",
        "z, x"
      ],
      "metadata": {
        "id": "uxIzZCI9oWCW",
        "colab": {
          "base_uri": "https://localhost:8080/"
        },
        "outputId": "2f6c1d82-129d-417c-b36c-aeb3b3051566"
      },
      "execution_count": null,
      "outputs": [
        {
          "output_type": "execute_result",
          "data": {
            "text/plain": [
              "(tensor([[5., 2., 3., 4., 5., 6., 7., 8., 9.]]),\n",
              " tensor([5., 2., 3., 4., 5., 6., 7., 8., 9.]))"
            ]
          },
          "metadata": {},
          "execution_count": 79
        }
      ]
    },
    {
      "cell_type": "code",
      "source": [
        "x_stacked = torch.stack([x,x,x,x], dim=0)\n",
        "x_stacked"
      ],
      "metadata": {
        "id": "yY0Td_9foifc",
        "colab": {
          "base_uri": "https://localhost:8080/"
        },
        "outputId": "e083e498-8a46-4d48-8c89-38f91b81ff3e"
      },
      "execution_count": null,
      "outputs": [
        {
          "output_type": "execute_result",
          "data": {
            "text/plain": [
              "tensor([[5., 2., 3., 4., 5., 6., 7., 8., 9.],\n",
              "        [5., 2., 3., 4., 5., 6., 7., 8., 9.],\n",
              "        [5., 2., 3., 4., 5., 6., 7., 8., 9.],\n",
              "        [5., 2., 3., 4., 5., 6., 7., 8., 9.]])"
            ]
          },
          "metadata": {},
          "execution_count": 80
        }
      ]
    },
    {
      "cell_type": "code",
      "source": [
        "x_stacked = torch.stack([x,x,x,x], dim=1)\n",
        "x_stacked"
      ],
      "metadata": {
        "id": "d-Na4HaPo2LF",
        "colab": {
          "base_uri": "https://localhost:8080/"
        },
        "outputId": "a44e2dcb-5ebb-4114-f60f-16bf05f297d8"
      },
      "execution_count": null,
      "outputs": [
        {
          "output_type": "execute_result",
          "data": {
            "text/plain": [
              "tensor([[5., 5., 5., 5.],\n",
              "        [2., 2., 2., 2.],\n",
              "        [3., 3., 3., 3.],\n",
              "        [4., 4., 4., 4.],\n",
              "        [5., 5., 5., 5.],\n",
              "        [6., 6., 6., 6.],\n",
              "        [7., 7., 7., 7.],\n",
              "        [8., 8., 8., 8.],\n",
              "        [9., 9., 9., 9.]])"
            ]
          },
          "metadata": {},
          "execution_count": 81
        }
      ]
    },
    {
      "cell_type": "code",
      "source": [
        "x"
      ],
      "metadata": {
        "id": "82dX7eWxo8zl",
        "colab": {
          "base_uri": "https://localhost:8080/"
        },
        "outputId": "232fac77-71e6-47f2-91e9-6bff018a8c8e"
      },
      "execution_count": null,
      "outputs": [
        {
          "output_type": "execute_result",
          "data": {
            "text/plain": [
              "tensor([5., 2., 3., 4., 5., 6., 7., 8., 9.])"
            ]
          },
          "metadata": {},
          "execution_count": 82
        }
      ]
    },
    {
      "cell_type": "code",
      "source": [
        "y = x.reshape(1,9)\n",
        "y"
      ],
      "metadata": {
        "id": "K8SokHjT36gh",
        "colab": {
          "base_uri": "https://localhost:8080/"
        },
        "outputId": "5528671c-5ac5-41ca-b78e-9227c8d48e7d"
      },
      "execution_count": null,
      "outputs": [
        {
          "output_type": "execute_result",
          "data": {
            "text/plain": [
              "tensor([[5., 2., 3., 4., 5., 6., 7., 8., 9.]])"
            ]
          },
          "metadata": {},
          "execution_count": 83
        }
      ]
    },
    {
      "cell_type": "code",
      "source": [
        "y.shape"
      ],
      "metadata": {
        "id": "7BD4iIJi3_Rg",
        "colab": {
          "base_uri": "https://localhost:8080/"
        },
        "outputId": "b4c546a5-d737-4111-80c3-b54b6fcb6148"
      },
      "execution_count": null,
      "outputs": [
        {
          "output_type": "execute_result",
          "data": {
            "text/plain": [
              "torch.Size([1, 9])"
            ]
          },
          "metadata": {},
          "execution_count": 84
        }
      ]
    },
    {
      "cell_type": "code",
      "source": [
        "y_squeezed = y.squeeze()\n",
        "y_squeezed"
      ],
      "metadata": {
        "id": "1XO5ll5c4BGB",
        "colab": {
          "base_uri": "https://localhost:8080/"
        },
        "outputId": "67c16023-54dd-4318-b6d1-4bbaa835e49b"
      },
      "execution_count": null,
      "outputs": [
        {
          "output_type": "execute_result",
          "data": {
            "text/plain": [
              "tensor([5., 2., 3., 4., 5., 6., 7., 8., 9.])"
            ]
          },
          "metadata": {},
          "execution_count": 85
        }
      ]
    },
    {
      "cell_type": "code",
      "source": [
        "y_squeezed.shape"
      ],
      "metadata": {
        "id": "D0VL-l174Fi2",
        "colab": {
          "base_uri": "https://localhost:8080/"
        },
        "outputId": "7af38ffe-5dfd-413d-bf2d-762338a72abb"
      },
      "execution_count": null,
      "outputs": [
        {
          "output_type": "execute_result",
          "data": {
            "text/plain": [
              "torch.Size([9])"
            ]
          },
          "metadata": {},
          "execution_count": 86
        }
      ]
    },
    {
      "cell_type": "code",
      "source": [
        "# unsqueeze\n",
        "\n",
        "y_unsqueezed = y_squeezed.unsqueeze(dim=1)\n",
        "y_unsqueezed"
      ],
      "metadata": {
        "id": "1I5fF0LT4ICg",
        "colab": {
          "base_uri": "https://localhost:8080/"
        },
        "outputId": "dcae1f59-51e5-4e33-a66c-4af9ab0438c1"
      },
      "execution_count": null,
      "outputs": [
        {
          "output_type": "execute_result",
          "data": {
            "text/plain": [
              "tensor([[5.],\n",
              "        [2.],\n",
              "        [3.],\n",
              "        [4.],\n",
              "        [5.],\n",
              "        [6.],\n",
              "        [7.],\n",
              "        [8.],\n",
              "        [9.]])"
            ]
          },
          "metadata": {},
          "execution_count": 87
        }
      ]
    },
    {
      "cell_type": "code",
      "source": [
        "y"
      ],
      "metadata": {
        "id": "ThJlDgS34dOy"
      },
      "execution_count": null,
      "outputs": []
    },
    {
      "cell_type": "code",
      "source": [
        "import torch\n",
        "from torch import nn\n",
        "import matplotlib.pyplot as plt"
      ],
      "metadata": {
        "id": "O_P2m7cWAnjE"
      },
      "execution_count": null,
      "outputs": []
    },
    {
      "cell_type": "code",
      "source": [
        "torch.__version__"
      ],
      "metadata": {
        "colab": {
          "base_uri": "https://localhost:8080/",
          "height": 35
        },
        "id": "qGN7V4a8VBQV",
        "outputId": "938fac97-ed15-489c-af9c-6514e6d1b8d4"
      },
      "execution_count": null,
      "outputs": [
        {
          "output_type": "execute_result",
          "data": {
            "text/plain": [
              "'2.4.1+cu121'"
            ],
            "application/vnd.google.colaboratory.intrinsic+json": {
              "type": "string"
            }
          },
          "metadata": {},
          "execution_count": 104
        }
      ]
    },
    {
      "cell_type": "code",
      "source": [
        "# Preparing and loading data"
      ],
      "metadata": {
        "id": "bpA2HH6ZVFDQ"
      },
      "execution_count": null,
      "outputs": []
    },
    {
      "cell_type": "code",
      "source": [
        "weight = 0.7\n",
        "bias = 0.3\n",
        "\n",
        "#  create soem data\n",
        "start = 0\n",
        "end = 1\n",
        "step = 0.02\n",
        "X = torch.arange(start, end, step).unsqueeze(dim=1)\n",
        "y = weight * X + bias\n",
        "y = y+torch.rand_like(y)*0.05\n",
        "\n",
        "# X[:10], y[:10]\n"
      ],
      "metadata": {
        "id": "o3_NNaM6VRD7"
      },
      "execution_count": null,
      "outputs": []
    },
    {
      "cell_type": "code",
      "source": [
        "X"
      ],
      "metadata": {
        "colab": {
          "base_uri": "https://localhost:8080/"
        },
        "id": "twzt2KUiXWAT",
        "outputId": "d8cea82e-730c-407a-a633-89320bdf29bc"
      },
      "execution_count": null,
      "outputs": [
        {
          "output_type": "execute_result",
          "data": {
            "text/plain": [
              "tensor([[0.0000],\n",
              "        [0.0200],\n",
              "        [0.0400],\n",
              "        [0.0600],\n",
              "        [0.0800],\n",
              "        [0.1000],\n",
              "        [0.1200],\n",
              "        [0.1400],\n",
              "        [0.1600],\n",
              "        [0.1800],\n",
              "        [0.2000],\n",
              "        [0.2200],\n",
              "        [0.2400],\n",
              "        [0.2600],\n",
              "        [0.2800],\n",
              "        [0.3000],\n",
              "        [0.3200],\n",
              "        [0.3400],\n",
              "        [0.3600],\n",
              "        [0.3800],\n",
              "        [0.4000],\n",
              "        [0.4200],\n",
              "        [0.4400],\n",
              "        [0.4600],\n",
              "        [0.4800],\n",
              "        [0.5000],\n",
              "        [0.5200],\n",
              "        [0.5400],\n",
              "        [0.5600],\n",
              "        [0.5800],\n",
              "        [0.6000],\n",
              "        [0.6200],\n",
              "        [0.6400],\n",
              "        [0.6600],\n",
              "        [0.6800],\n",
              "        [0.7000],\n",
              "        [0.7200],\n",
              "        [0.7400],\n",
              "        [0.7600],\n",
              "        [0.7800],\n",
              "        [0.8000],\n",
              "        [0.8200],\n",
              "        [0.8400],\n",
              "        [0.8600],\n",
              "        [0.8800],\n",
              "        [0.9000],\n",
              "        [0.9200],\n",
              "        [0.9400],\n",
              "        [0.9600],\n",
              "        [0.9800]])"
            ]
          },
          "metadata": {},
          "execution_count": 107
        }
      ]
    },
    {
      "cell_type": "code",
      "source": [
        "y"
      ],
      "metadata": {
        "colab": {
          "base_uri": "https://localhost:8080/"
        },
        "id": "lp93zMxxXroz",
        "outputId": "4351ebf3-02f5-4f85-f772-c910fe8bccad"
      },
      "execution_count": null,
      "outputs": [
        {
          "output_type": "execute_result",
          "data": {
            "text/plain": [
              "tensor([[0.3191],\n",
              "        [0.3314],\n",
              "        [0.3428],\n",
              "        [0.3575],\n",
              "        [0.3597],\n",
              "        [0.3740],\n",
              "        [0.4328],\n",
              "        [0.4429],\n",
              "        [0.4339],\n",
              "        [0.4531],\n",
              "        [0.4826],\n",
              "        [0.4760],\n",
              "        [0.5030],\n",
              "        [0.5067],\n",
              "        [0.5012],\n",
              "        [0.5481],\n",
              "        [0.5363],\n",
              "        [0.5666],\n",
              "        [0.5893],\n",
              "        [0.5762],\n",
              "        [0.6058],\n",
              "        [0.5997],\n",
              "        [0.6380],\n",
              "        [0.6353],\n",
              "        [0.6475],\n",
              "        [0.6655],\n",
              "        [0.7119],\n",
              "        [0.7011],\n",
              "        [0.6948],\n",
              "        [0.7470],\n",
              "        [0.7352],\n",
              "        [0.7609],\n",
              "        [0.7808],\n",
              "        [0.7707],\n",
              "        [0.7998],\n",
              "        [0.8030],\n",
              "        [0.8218],\n",
              "        [0.8272],\n",
              "        [0.8360],\n",
              "        [0.8920],\n",
              "        [0.8655],\n",
              "        [0.9237],\n",
              "        [0.8977],\n",
              "        [0.9465],\n",
              "        [0.9658],\n",
              "        [0.9315],\n",
              "        [0.9665],\n",
              "        [0.9763],\n",
              "        [1.0138],\n",
              "        [1.0115]])"
            ]
          },
          "metadata": {},
          "execution_count": 108
        }
      ]
    },
    {
      "cell_type": "code",
      "source": [
        "# split data into training, validation and test sets"
      ],
      "metadata": {
        "id": "uRSioB8ybfzB"
      },
      "execution_count": null,
      "outputs": []
    },
    {
      "cell_type": "code",
      "source": [
        "#  create train split"
      ],
      "metadata": {
        "id": "3AkAKTq3bmwH"
      },
      "execution_count": null,
      "outputs": []
    },
    {
      "cell_type": "code",
      "source": [
        "train_split = int(0.8*len(X))\n",
        "X_train, y_train = X[:train_split], y[:train_split]"
      ],
      "metadata": {
        "id": "ll7kXhPXe19P"
      },
      "execution_count": null,
      "outputs": []
    },
    {
      "cell_type": "code",
      "source": [
        "X_test, y_test = X[train_split:], y[train_split:]"
      ],
      "metadata": {
        "id": "bhOhI1Yafc4d"
      },
      "execution_count": null,
      "outputs": []
    },
    {
      "cell_type": "code",
      "source": [
        "len(X_train), len(y_train), len(X_test), len(y_test)"
      ],
      "metadata": {
        "colab": {
          "base_uri": "https://localhost:8080/"
        },
        "id": "J5-xjza2fnFa",
        "outputId": "6fa6fb90-8016-4699-e7bc-e7ee91eb248d"
      },
      "execution_count": null,
      "outputs": [
        {
          "output_type": "execute_result",
          "data": {
            "text/plain": [
              "(40, 40, 10, 10)"
            ]
          },
          "metadata": {},
          "execution_count": 113
        }
      ]
    },
    {
      "cell_type": "code",
      "source": [
        "#  visualize"
      ],
      "metadata": {
        "id": "ylEvpzdWfr8Z"
      },
      "execution_count": null,
      "outputs": []
    },
    {
      "cell_type": "code",
      "source": [
        "def plot_predictions(train_data=X_train,\n",
        "                     train_labels=y_train,\n",
        "                     test_data=X_test,\n",
        "                     test_labels=y_test,\n",
        "                     predictions=None):\n",
        "    \"\"\"\n",
        "    Plots training data, test data and compares predictions\n",
        "    \"\"\"\n",
        "    plt.figure(figsize=(10,7))\n",
        "    # Plot training data in blue\n",
        "    plt.scatter(train_data,train_labels,c='b', s=4,label='training data')\n",
        "\n",
        "    # plt.figure(figsize=(10,7))\n",
        "    # Plot training data in blue\n",
        "    plt.scatter(test_data,test_labels,c='g', s=4,label='test data')\n",
        "\n",
        "    if predictions is not None:\n",
        "        plt.scatter(test_data,predictions,c='r', s=4,label='predictions')\n",
        "\n",
        "    plt.legend(prop={'size':14})"
      ],
      "metadata": {
        "id": "bS3aCJyjjd0S"
      },
      "execution_count": null,
      "outputs": []
    },
    {
      "cell_type": "code",
      "source": [
        "plot_predictions()"
      ],
      "metadata": {
        "colab": {
          "base_uri": "https://localhost:8080/",
          "height": 599
        },
        "id": "HJrW_mIlFST6",
        "outputId": "aa8476bd-602d-486e-bd16-94bc4b4fcd62"
      },
      "execution_count": null,
      "outputs": [
        {
          "output_type": "display_data",
          "data": {
            "text/plain": [
              "<Figure size 1000x700 with 1 Axes>"
            ],
            "image/png": "[encoded data removed]"
          },
          "metadata": {}
        }
      ]
    },
    {
      "cell_type": "code",
      "source": [
        "# First pytorch model\n",
        "#  create linear regression model\n",
        "class LinearRegressionModel(nn.Module): # <- almost everything in pytorch inherits from nn.Module\n",
        "    def __init__(self):\n",
        "      super().__init__()\n",
        "      self.weights = nn.Parameter(torch.randn(1,\n",
        "                                               requires_grad=True,\n",
        "                                               dtype=torch.float))\n",
        "      self.bias = nn.Parameter(torch.randn(1,\n",
        "                                            requires_grad=True,\n",
        "                                            dtype=torch.float))\n",
        "\n",
        "    def forward(self, x: torch.Tensor) -> torch.Tensor:\n",
        "      return self.weights * x + self.bias\n"
      ],
      "metadata": {
        "id": "fezqqL68FVEQ"
      },
      "execution_count": null,
      "outputs": []
    },
    {
      "cell_type": "code",
      "source": [],
      "metadata": {
        "id": "pEmsbo1o1jh6"
      },
      "execution_count": null,
      "outputs": []
    }
  ]
}